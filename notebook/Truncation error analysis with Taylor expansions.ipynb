{
 "cells": [
  {
   "cell_type": "markdown",
   "id": "6c639b68",
   "metadata": {},
   "source": [
    "# Truncation error analysis with Taylor expansions\n",
    "\n",
    "_Gilbert Francois Duivesteijn_"
   ]
  },
  {
   "cell_type": "code",
   "execution_count": 2,
   "id": "5d2dee1d",
   "metadata": {},
   "outputs": [
    {
     "data": {
      "application/javascript": [
       "MathJax.Hub.Config({\n",
       "    TeX: { equationNumbers: { autoNumber: \"AMS\" } }\n",
       "});\n"
      ],
      "text/plain": [
       "<IPython.core.display.Javascript object>"
      ]
     },
     "metadata": {},
     "output_type": "display_data"
    }
   ],
   "source": [
    "%%javascript\n",
    "MathJax.Hub.Config({\n",
    "    TeX: { equationNumbers: { autoNumber: \"AMS\" } }\n",
    "});"
   ]
  },
  {
   "cell_type": "markdown",
   "id": "732c0cb7",
   "metadata": {},
   "source": [
    "# Second order finite difference truncation error\n",
    "\n",
    "\n",
    "Let's approximate the diffusion part of the heat equation and look at its error:\n",
    "\n",
    "\\begin{equation}\n",
    "\\frac{\\partial^2 u}{\\partial x^2} = \\frac{u_{i-1} - 2u_i + u_{i+1}}{\\Delta x^2}\n",
    "\\end{equation}\n",
    "\n",
    "The truncation error can be written as:\n",
    "\n",
    "\\begin{equation}\n",
    "\\tau = \\frac{u_{i-1} - 2u_i + u_{i+1}}{\\Delta x^2} - \\frac{\\partial^2 u}{\\partial x^2}\n",
    "\\end{equation}\n",
    "\n",
    "Let's use Taylor expansions to approximate the differential terms:\n",
    "\n",
    "\\begin{align}\n",
    "u_{i-1} &= u(i\\Delta x - \\Delta x) = \\sum_{k=0}^{\\infty} \\frac{1}{k!} u^{(k)}(i\\Delta x)\\cdot(-\\Delta x)^k \\\\\n",
    "u_{i+1} &= u(i\\Delta x + \\Delta x) = \\sum_{k=0}^{\\infty} \\frac{1}{k!} u^{(k)}(i\\Delta x)\\cdot\\Delta x^k \\\\\n",
    "u_{i}   &= u(i\\Delta x) = u^k(i\\Delta x) \\qquad \\in k = 1 \\\\\n",
    "\\end{align}\n",
    "\n",
    "Writing out the Taylor expansions:\n",
    "\\begin{align}\n",
    "\\frac{-2}{\\Delta x^2}u_i &=  \\frac{-2}{\\Delta x^2} u_i\\\\\n",
    "\\frac{1}{\\Delta x^2}u_{i-1} &= \\frac{1}{\\Delta x^2} u_i +\n",
    "     \\frac{-1}{\\Delta x^2}\\frac{\\Delta x}{1}  u_i' + \n",
    "     \\frac{1}{\\Delta x^2}\\frac{\\Delta x^2}{2} u_i'' +\n",
    "     \\frac{1}{\\Delta x^2}\\frac{\\Delta x^3}{6} u_i''' +\n",
    "     \\frac{1}{\\Delta x^2}\\frac{\\Delta x^4}{24} u_i'''' \\\\\n",
    "\\frac{1}{\\Delta x^2}u_{i+1} &= \\frac{1}{\\Delta x^2} u_i +\n",
    "     \\frac{1}{\\Delta x^2}\\frac{\\Delta x}{1}  u_i'  + \n",
    "     \\frac{1}{\\Delta x^2}\\frac{\\Delta x^2}{2} u_i'' +\n",
    "     \\frac{-1}{\\Delta x^2}\\frac{\\Delta x^3}{6} u_i''' +\n",
    "     \\frac{1}{\\Delta x^2}\\frac{\\Delta x^4}{24} u_i''''    \\\\ \n",
    "-\\frac{\\partial^2 u}{\\partial x^2} &= -u_i''\n",
    "\\end{align}\n",
    "Let's put all coefficients in a table:\n",
    "\n",
    "|   | $\\frac{1}{\\Delta x^2}u_{i-1}$ | $-\\frac{2}{\\Delta x^2}u_{i}$ | $\\frac{1}{\\Delta x^2}u_{i+1}$| $\\frac{\\partial^2 u}{\\partial x^2}$ | \n",
    "| ---- | ---- | ---- | ---- | ---- |\n",
    "|$u_i$     | $ \\frac{1}{\\Delta x^2}$           | $ -\\frac{2}{\\Delta x^2}$         | $\\frac{1}{\\Delta x^2}$ |$0$|\n",
    "|$u'_i$    | $-\\frac{1}{\\Delta x^2}\\Delta x$             |$0$| $ \\frac{1}{\\Delta x^2}\\Delta x$             |$0$|\n",
    "|$u''_i$   | $ \\frac{1}{\\Delta x^2}\\frac{\\Delta x^2}{2}$ |$0$| $ \\frac{1}{\\Delta x^2}\\frac{\\Delta x^2}{2}$ |$-1$ |\n",
    "|$u'''_i$  | $ \\frac{1}{\\Delta x^2}\\frac{\\Delta x^3}{6}$ |$0$| $-\\frac{1}{\\Delta x^2}\\frac{\\Delta x^3}{6}$ |$0$  |\n",
    "|$u''''_i$ | $ \\frac{1}{\\Delta x^2}\\frac{\\Delta x^4}{24}$ |$0$| $\\frac{1}{\\Delta x^2}\\frac{\\Delta x^4}{24}$ |$0$|\n",
    "|$\\vdots$  |$\\vdots$|$\\vdots$|$\\vdots$|$\\vdots$|\n",
    "\n",
    "Here we can see that all coefficients for $u_i$, $u'_i$, $u''_i$, $u'''_i$ cancel each other out. The first terms that do not cancel themselves out are the coefficients of $u_i''''$. And luckily, these terms are small, compared to the values of the solution.\n",
    "\n",
    "What is left of the truncation error equation, is:\n",
    "\\begin{align}\n",
    "\\tau &= \\frac{2}{\\Delta x^2}\\frac{\\Delta x^4}{24} u_i'''' \\\\\n",
    "     &= \\frac{1}{12}\\Delta x^2 u_i'''' \\\\\n",
    "     &= \\mathcal{O}(\\Delta x)^2\n",
    "\\end{align}"
   ]
  }
 ],
 "metadata": {
  "kernelspec": {
   "display_name": "Python 3 (ipykernel)",
   "language": "python",
   "name": "python3"
  },
  "language_info": {
   "codemirror_mode": {
    "name": "ipython",
    "version": 3
   },
   "file_extension": ".py",
   "mimetype": "text/x-python",
   "name": "python",
   "nbconvert_exporter": "python",
   "pygments_lexer": "ipython3",
   "version": "3.8.10"
  }
 },
 "nbformat": 4,
 "nbformat_minor": 5
}
