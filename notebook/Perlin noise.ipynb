{
 "cells": [
  {
   "cell_type": "markdown",
   "id": "997f7032-fd9f-49c6-b1fb-a564974b1d67",
   "metadata": {},
   "source": [
    "# Perlin noise\n",
    "\n",
    "_Gilbert François Duivesteijn_\n"
   ]
  },
  {
   "cell_type": "code",
   "execution_count": null,
   "id": "7dae76f4-95fd-476d-824d-656cab892f04",
   "metadata": {},
   "outputs": [],
   "source": [
    "import numpy as np\n",
    "import matplotlib.pyplot as plt\n",
    "\n",
    "# from IPython.core.display import display, HTML # my imports"
   ]
  },
  {
   "cell_type": "code",
   "execution_count": null,
   "id": "e23f22b9-7909-4219-8c33-a678f7a863c5",
   "metadata": {},
   "outputs": [],
   "source": [
    "%matplotlib inline"
   ]
  },
  {
   "cell_type": "markdown",
   "id": "7c6fb463-bd99-4a08-924d-35c85eb1e0a2",
   "metadata": {},
   "source": [
    "## 1D Perlin noise\n",
    "\n",
    "Exploration between 2 grid points."
   ]
  },
  {
   "cell_type": "code",
   "execution_count": null,
   "id": "a114b128-e2bd-419e-997e-1850160a99ca",
   "metadata": {},
   "outputs": [],
   "source": [
    "# Number of cells\n",
    "nx = 4\n",
    "\n",
    "# Random gradients at grid points with range [-1,1]\n",
    "grad = 2*np.random.rand(nx+1)-1"
   ]
  },
  {
   "cell_type": "code",
   "execution_count": null,
   "id": "88557513-01c3-4615-9fb6-f2f2f109ff5c",
   "metadata": {},
   "outputs": [],
   "source": [
    "plt.figure(figsize=(7, 7))\n",
    "plt.plot(grad, marker=\"o\")\n",
    "axs = plt.gca()\n",
    "axs.spines['left'].set_position('zero')\n",
    "axs.spines['right'].set_color('none')\n",
    "axs.spines['bottom'].set_position('zero')\n",
    "axs.spines['top'].set_color('none')\n",
    "plt.title(\"Gradient values at grid points\")\n",
    "plt.xlabel(\"x\")\n",
    "plt.ylabel(\"v\")\n",
    "plt.show()\n",
    "print(\"Grad values:\")\n",
    "print(grad)"
   ]
  },
  {
   "cell_type": "code",
   "execution_count": null,
   "id": "4e9095ed-b5f1-40b7-ab9d-fd06583e8503",
   "metadata": {},
   "outputs": [],
   "source": [
    "x = np.linspace(0, 1, 101)[:100]\n",
    "\n",
    "ix0 = np.floor(x).astype(\"int\")\n",
    "ix1 = ix0 + 1\n",
    "\n",
    "dx0 = x - ix0\n",
    "dx1 = x - ix1\n",
    "\n",
    "dg0 = grad[ix0]*dx0\n",
    "dg1 = grad[ix1]*dx1\n",
    "\n",
    "w = x - ix0\n",
    "\n",
    "z_linear = (dg1 - dg0)*w + dg0\n",
    "z_cubic  = (dg1 - dg0)*(3.0 - w * 2.0)*w**2 + dg0;"
   ]
  },
  {
   "cell_type": "code",
   "execution_count": null,
   "id": "dfdc6a97-b49a-420f-9c11-fbb1f5a29f25",
   "metadata": {},
   "outputs": [],
   "source": [
    "plt.figure(figsize=(7, 7))\n",
    "plt.plot(x, dg0, label=\"$dotgrad_0$\")\n",
    "plt.plot(x, dg1, label=\"$dotgrad_1$\")\n",
    "plt.plot(x, z_linear, label=\"$z_{linear}$\")\n",
    "plt.plot(x, z_cubic, label=\"$z_{smooth}$\")\n",
    "\n",
    "axs = plt.gca()\n",
    "axs.spines['left'].set_position('zero')\n",
    "axs.spines['right'].set_color('none')\n",
    "axs.spines['bottom'].set_position('zero')\n",
    "axs.spines['top'].set_color('none')\n",
    "plt.legend()\n",
    "plt.show()"
   ]
  },
  {
   "cell_type": "markdown",
   "id": "41dd0172-6397-4e25-960e-d4994dbe46f7",
   "metadata": {},
   "source": [
    "## 1D Perlin noise functions"
   ]
  },
  {
   "cell_type": "code",
   "execution_count": null,
   "id": "9611e95a-7b5f-432c-a54a-4a0b3755a581",
   "metadata": {},
   "outputs": [],
   "source": [
    "def dotgrad(x, ix, grad):\n",
    "    # distance vector\n",
    "    dx = x - ix\n",
    "    # grad times distance\n",
    "    dz = grad[ix]*dx\n",
    "    return dz\n",
    "\n",
    "def lerp(a0, a1, w, interpolation):\n",
    "    # Linear interpolation\n",
    "    if interpolation == 0:\n",
    "        return (a1 - a0)*w + a0\n",
    "    # Cubic interpolation\n",
    "    elif interpolation == 1:\n",
    "        return (a1 - a0) * (3.0 - w * 2.0) * w * w + a0;\n",
    "    else:\n",
    "        raise ValueError(f\"Invalid interpolation method: {interpolation}\")\n",
    "    \n",
    "def perlin(x, interpolation):\n",
    "    \n",
    "    # Find closest surrounding grid points.\n",
    "    ix0 = np.floor(x).astype(\"int\")\n",
    "    ix1 = ix0 + 1\n",
    "    \n",
    "    # Compute the value at the grid points, with dot product of grad*dist.\n",
    "    z0 = dotgrad(x, ix0, grad)\n",
    "    z1 = dotgrad(x, ix1, grad)\n",
    "    \n",
    "    # Interpolate between the values of the 2 surrounding grid points.\n",
    "    z = lerp(z0, z1, x - ix0, interpolation)\n",
    "\n",
    "    return z"
   ]
  },
  {
   "cell_type": "code",
   "execution_count": null,
   "id": "c93eb5e2-0d80-4ad6-8ee0-274ebd20125a",
   "metadata": {},
   "outputs": [],
   "source": [
    "x = np.linspace(0, nx, nx*100+1)[:-1]"
   ]
  },
  {
   "cell_type": "code",
   "execution_count": null,
   "id": "8a7848af-1e3d-472a-96e3-4985ca1f141a",
   "metadata": {},
   "outputs": [],
   "source": [
    "z_linear = perlin(x, interpolation=0)\n",
    "z_cubic = perlin(x, interpolation=1)"
   ]
  },
  {
   "cell_type": "code",
   "execution_count": null,
   "id": "dc9640f7-e83e-4e2b-97af-61fca81c64f2",
   "metadata": {},
   "outputs": [],
   "source": [
    "plt.figure(figsize=(7, 7))\n",
    "plt.plot(x, z_linear, label=\"$z_{linear}$\")\n",
    "plt.plot(x, z_cubic, label=\"$z_{cubic}$\")\n",
    "\n",
    "axs = plt.gca()\n",
    "axs.spines['left'].set_position('zero')\n",
    "axs.spines['right'].set_color('none')\n",
    "axs.spines['bottom'].set_position('zero')\n",
    "axs.spines['top'].set_color('none')\n",
    "plt.legend()\n",
    "plt.show()"
   ]
  },
  {
   "cell_type": "markdown",
   "id": "1a2a7c66-f073-44e8-b525-c34c33acbcfc",
   "metadata": {
    "tags": []
   },
   "source": [
    "## 2D Perlin noise functions\n",
    "\n",
    "Following Ken Perlin's reference implementation [[1](https://mrl.cs.nyu.edu/~perlin/noise/)], this is a vectorized implementation using numpy.\n"
   ]
  },
  {
   "cell_type": "code",
   "execution_count": null,
   "id": "f0d7ec98-1fc5-46dc-b8bb-5cfe15bb9c40",
   "metadata": {},
   "outputs": [],
   "source": [
    "# Define number of grid cells\n",
    "nx_cells = 4\n",
    "ny_cells = 4\n",
    "\n",
    "# Set grid indices\n",
    "x = np.linspace(0, nx_cells, nx_cells+1)\n",
    "y = np.linspace(0, ny_cells, ny_cells+1)\n",
    "xx, yy = np.meshgrid(x, y)\n",
    "\n",
    "# Create gradient vectors dvdx,dvdy for each grid point.\n",
    "gradv = 2*np.random.rand(nx_cells+1, ny_cells+1,2)-1"
   ]
  },
  {
   "cell_type": "code",
   "execution_count": null,
   "id": "e32d6d47-5359-4da7-bee7-b07c045a4ab2",
   "metadata": {},
   "outputs": [],
   "source": [
    "fig, ax = plt.subplots(1, 2, subplot_kw={\"projection\": \"3d\"}, figsize=(14, 7))\n",
    "ax[0].plot_surface(xx, yy, gradv[:,:,0], cmap=\"inferno\", linewidth=1, antialiased=True)\n",
    "ax[1].plot_surface(xx, yy, gradv[:,:,1], cmap=\"inferno\", linewidth=1, antialiased=True)\n",
    "ax[0].set_zlim(-1, 1)\n",
    "ax[0].set_title(\"$dv/dx$\")\n",
    "ax[0].set_xlabel(\"X\")\n",
    "ax[0].set_ylabel(\"Y\")\n",
    "ax[1].set_zlim(-1, 1)\n",
    "ax[1].set_title(\"$dv/dy$\")\n",
    "ax[1].set_xlabel(\"X\")\n",
    "ax[1].set_ylabel(\"Y\")\n",
    "plt.show()"
   ]
  },
  {
   "cell_type": "code",
   "execution_count": null,
   "id": "fd13cfac-1cd3-4b88-9953-5c84655bfc0b",
   "metadata": {},
   "outputs": [],
   "source": [
    "def dotgrad(x, y, x0, y0, gradv):\n",
    "    dx = x - x0\n",
    "    dy = y - y0\n",
    "    return (gradv[x0, y0, 0]*dx + gradv[x0, y0, 1]*dy)\n",
    "\n",
    "def lerp(v0, v1, w, smooth=True):\n",
    "    if smooth:\n",
    "        v = (v1 - v0) * (3.0 - w * 2.0) * w * w + v0;\n",
    "    else:\n",
    "        v = (v1-v0)*w + v0\n",
    "    return v\n",
    "\n",
    "def perlin(x, y, smooth=True, debug=False):\n",
    "    \n",
    "    # Find closest gridpoints on left and right hand side of the point.\n",
    "    x0 = np.floor(x).astype(\"int\")\n",
    "    x1 = x0 + 1\n",
    "    y0 = np.floor(y).astype(\"int\")\n",
    "    y1 = y0 + 1\n",
    "    \n",
    "    # Compute the dot gradients for all gridpoints in the domain\n",
    "    v00 = dotgrad(x, y, x0, y0, gradv)\n",
    "    v01 = dotgrad(x, y, x1, y0, gradv)  \n",
    "    v10 = dotgrad(x, y, x0, y1, gradv)\n",
    "    v11 = dotgrad(x, y, x1, y1, gradv)\n",
    "    \n",
    "    v0x = lerp(v00, v01, x - x0, smooth)\n",
    "    v1x = lerp(v10, v11, x - x0, smooth)\n",
    "    vxy = lerp(v0x, v1x, y - y0, smooth)\n",
    "    if debug:\n",
    "        return vxy, v00, v01, v10, v11, v0x, v1x\n",
    "    else:\n",
    "        return vxy"
   ]
  },
  {
   "cell_type": "code",
   "execution_count": null,
   "id": "812056ba-625f-44a3-92d9-c6c92f73322b",
   "metadata": {},
   "outputs": [],
   "source": [
    "# Compute the noise within the domain\n",
    "\n",
    "x = np.linspace(0, nx_cells, nx_cells*10+1)\n",
    "y = np.linspace(0, ny_cells, ny_cells*10+1)\n",
    "xx, yy = np.meshgrid(x, y)\n",
    "xx = xx[:-1,:-1]\n",
    "yy = yy[:-1,:-1]\n",
    "\n",
    "zzl = perlin(xx, yy, smooth=False)\n",
    "zzs = perlin(xx, yy, smooth=True)"
   ]
  },
  {
   "cell_type": "code",
   "execution_count": null,
   "id": "9777dc4f-0d69-4064-8cd9-c372cef10315",
   "metadata": {},
   "outputs": [],
   "source": [
    "fig, ax = plt.subplots(1, 2, subplot_kw={\"projection\": \"3d\"}, figsize=(14, 7))\n",
    "ax[0].plot_surface(xx, yy, zzl, cmap=\"inferno\", linewidth=1, antialiased=True)\n",
    "ax[0].set_zlim(-1, 1)\n",
    "ax[0].set_title(\"$v_{linear}$\")\n",
    "ax[0].set_xlabel(\"X\")\n",
    "ax[0].set_ylabel(\"Y\")\n",
    "ax[1].plot_surface(xx, yy, zzs, cmap=\"inferno\", linewidth=1, antialiased=True)\n",
    "ax[1].set_zlim(-1, 1)\n",
    "ax[1].set_title(\"$v_{smooth}$\")\n",
    "ax[1].set_xlabel(\"X\")\n",
    "ax[1].set_ylabel(\"Y\")\n",
    "plt.show()"
   ]
  },
  {
   "cell_type": "markdown",
   "id": "4150a4fd-b05f-4d51-be39-4dadacfb1f07",
   "metadata": {},
   "source": [
    "## Unit test for MSX code"
   ]
  },
  {
   "cell_type": "code",
   "execution_count": null,
   "id": "86d7a51a-1a68-4081-b509-0cab25aa46fb",
   "metadata": {},
   "outputs": [],
   "source": [
    "# Define number of grid cells\n",
    "nx_cells = 4\n",
    "ny_cells = 4\n",
    "\n",
    "# Offset\n",
    "ox=0\n",
    "oy=0\n",
    "\n",
    "# n_pixels per cell\n",
    "px = (256-2*ox)/nx_cells\n",
    "py = (192-2*oy)/ny_cells\n",
    "\n",
    "print(f\"px: {px}\")\n",
    "print(f\"py: {py}\")"
   ]
  },
  {
   "cell_type": "code",
   "execution_count": null,
   "id": "8885c787-b04b-4322-83ec-becdb49db3bb",
   "metadata": {},
   "outputs": [],
   "source": [
    "# Screen pixels\n",
    "\n",
    "x = np.arange(0, 256)\n",
    "y = np.arange(0, 192)\n",
    "\n",
    "assert x.shape[0] == 256\n",
    "assert y.shape[0] == 192\n",
    "\n",
    "print(\"x = \")\n",
    "print(x)\n",
    "print(\"y = \")\n",
    "print(y)"
   ]
  },
  {
   "cell_type": "code",
   "execution_count": null,
   "id": "73159672-16df-4ab0-b526-623776cfdae2",
   "metadata": {},
   "outputs": [],
   "source": [
    "xp = (x-2*ox)/px\n",
    "yp = (y-2*oy)/py\n",
    "\n",
    "assert xp.shape[0] == 256\n",
    "assert yp.shape[0] == 192\n",
    "\n",
    "print(\"xp = \")\n",
    "print(xp)\n",
    "print(\"yp = \")\n",
    "print(yp)"
   ]
  },
  {
   "cell_type": "code",
   "execution_count": null,
   "id": "835f7c7f-ab21-4af3-82b1-91ade9e2fadb",
   "metadata": {},
   "outputs": [],
   "source": [
    "# Set grid indices\n",
    "x = np.linspace(0, nx_cells, nx_cells+1)\n",
    "y = np.linspace(0, ny_cells, ny_cells+1)\n",
    "xx, yy = np.meshgrid(x, y)\n",
    "\n",
    "# Create gradient vectors dvdx,dvdy for each grid point.\n",
    "gradv_x = np.cos(xx)*np.cos(yy)\n",
    "gradv_y = np.sin(yy)*np.sin(xx)\n",
    "gradv = np.stack([gradv_x, gradv_y], axis=2)\n",
    "\n",
    "# gradv = 2*np.random.rand(nx_cells+1, ny_cells+1,2)-1\n",
    "# gradv.shape"
   ]
  },
  {
   "cell_type": "code",
   "execution_count": null,
   "id": "7f23cccf-de89-4f77-85e7-cfe1a44945ce",
   "metadata": {},
   "outputs": [],
   "source": [
    "fig, ax = plt.subplots(1, 2, subplot_kw={\"projection\": \"3d\"}, figsize=(14, 7))\n",
    "ax[0].plot_surface(xx, yy, gradv[:,:,0], cmap=\"inferno\", linewidth=1, antialiased=True)\n",
    "ax[1].plot_surface(xx, yy, gradv[:,:,1], cmap=\"inferno\", linewidth=1, antialiased=True)\n",
    "ax[0].set_zlim(-1, 1)\n",
    "ax[0].set_title(\"$dv/dx$\")\n",
    "ax[0].set_xlabel(\"X\")\n",
    "ax[0].set_ylabel(\"Y\")\n",
    "ax[1].set_zlim(-1, 1)\n",
    "ax[1].set_title(\"$dv/dy$\")\n",
    "ax[1].set_xlabel(\"X\")\n",
    "ax[1].set_ylabel(\"Y\")\n",
    "plt.show()\n"
   ]
  },
  {
   "cell_type": "code",
   "execution_count": null,
   "id": "35d06f64-f2cf-4d40-b751-93419e5406c8",
   "metadata": {},
   "outputs": [],
   "source": [
    "gradv[:,:,0]"
   ]
  },
  {
   "cell_type": "code",
   "execution_count": null,
   "id": "9dcdb1c5-4d6d-45e3-8a84-c20feb475ef5",
   "metadata": {},
   "outputs": [],
   "source": [
    "gradv[:,:,1]"
   ]
  },
  {
   "cell_type": "code",
   "execution_count": null,
   "id": "efa637b8-8054-415f-be99-77587044247d",
   "metadata": {},
   "outputs": [],
   "source": [
    "yy, xx = np.meshgrid(yp, xp)\n",
    "print(xx.shape, yy.shape)\n",
    "\n",
    "\n",
    "zzl, v00, v01, v10, v11, v0x, v1x = perlin(xx, yy, smooth=False, debug=True)\n",
    "zzs, v00, v01, v10, v11, v0x, v1x = perlin(xx, yy, smooth=True, debug=True)\n",
    "\n",
    "# zzs = perlin(xx, yy, smooth=True)"
   ]
  },
  {
   "cell_type": "code",
   "execution_count": null,
   "id": "a8db2543-7f25-4819-9329-e4cffcb3fa59",
   "metadata": {},
   "outputs": [],
   "source": [
    "_x=100\n",
    "_y=10\n",
    "\n",
    "print(v00[_x,_y])\n",
    "print(v01[_x,_y])\n",
    "print(v10[_x,_y])\n",
    "print(v11[_x,_y])\n",
    "print(v0x[_x,_y])\n",
    "print(v1x[_x,_y])\n",
    "print(zzl[_x,_y])\n",
    "print(zzl.shape)\n",
    "print(xp.shape)"
   ]
  },
  {
   "cell_type": "code",
   "execution_count": null,
   "id": "87a9d931-9169-4f67-a7de-67d1ccceb13e",
   "metadata": {},
   "outputs": [],
   "source": [
    "fig, ax = plt.subplots(1, 2, subplot_kw={\"projection\": \"3d\"}, figsize=(14, 7))\n",
    "ax[0].plot_surface(xx, yy, zzl, cmap=\"inferno\", linewidth=1, antialiased=True)\n",
    "ax[0].set_zlim(-1, 1)\n",
    "ax[0].set_title(\"$v_{linear}$\")\n",
    "ax[0].set_xlabel(\"X\")\n",
    "ax[0].set_ylabel(\"Y\")\n",
    "ax[1].plot_surface(xx, yy, zzs, cmap=\"inferno\", linewidth=1, antialiased=True)\n",
    "ax[1].set_zlim(-1, 1)\n",
    "ax[1].set_title(\"$v_{smooth}$\")\n",
    "ax[1].set_xlabel(\"X\")\n",
    "ax[1].set_ylabel(\"Y\")\n",
    "plt.show()"
   ]
  },
  {
   "cell_type": "code",
   "execution_count": null,
   "id": "652bd0d5-502e-47ee-b14d-7dc1deb9a60e",
   "metadata": {},
   "outputs": [],
   "source": [
    "plt.figure()\n",
    "plt.plot(zzl[96,:])\n",
    "plt.show()"
   ]
  },
  {
   "cell_type": "code",
   "execution_count": null,
   "id": "bbd5f745-5632-4ac3-ba9b-6353592cb907",
   "metadata": {},
   "outputs": [],
   "source": []
  }
 ],
 "metadata": {
  "kernelspec": {
   "display_name": "Python 3 (ipykernel)",
   "language": "python",
   "name": "python3"
  },
  "language_info": {
   "codemirror_mode": {
    "name": "ipython",
    "version": 3
   },
   "file_extension": ".py",
   "mimetype": "text/x-python",
   "name": "python",
   "nbconvert_exporter": "python",
   "pygments_lexer": "ipython3",
   "version": "3.8.10"
  }
 },
 "nbformat": 4,
 "nbformat_minor": 5
}
