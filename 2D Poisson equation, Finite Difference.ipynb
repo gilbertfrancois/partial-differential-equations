{
 "cells": [
  {
   "cell_type": "markdown",
   "id": "0d6bbaf9",
   "metadata": {},
   "source": [
    "# 2D Poisson equation, Finite Difference\n",
    "_Gilbert François Duivesteijn_"
   ]
  },
  {
   "cell_type": "markdown",
   "id": "469a56e0",
   "metadata": {},
   "source": [
    "Let's consider:\n",
    "\n",
    "\\begin{align}\n",
    "\\frac{\\partial u}{\\partial t} + U \\cdot \\nabla u = \\kappa \\nabla^2 u + f\n",
    "\\end{align}\n",
    "where\n",
    "\\begin{align}\n",
    " \\nabla^2 &\\equiv \\frac{\\partial^2}{\\partial x^2} + \\frac{\\partial^2}{\\partial y^2} \\\\\n",
    "   \\nabla &\\equiv \\left( \\frac{\\partial}{\\partial x}, \\frac{\\partial}{\\partial y} \\right)\n",
    "\\end{align}\n",
    "and $U$, $\\kappa > 0$, $f$ given functions of $(x,y)$. \n",
    "\n",
    "For the Poisson equation, "
   ]
  },
  {
   "cell_type": "code",
   "execution_count": 39,
   "id": "7fa4b1fc",
   "metadata": {},
   "outputs": [],
   "source": [
    "import numpy as np\n",
    "import matplotlib.pyplot as plt"
   ]
  },
  {
   "cell_type": "code",
   "execution_count": 40,
   "id": "45cf97c4",
   "metadata": {},
   "outputs": [],
   "source": [
    "nx = 4\n",
    "ny = 4\n",
    "dx = 1/(nx-1)\n",
    "dy = 1/(ny-1)"
   ]
  },
  {
   "cell_type": "code",
   "execution_count": 41,
   "id": "a6512e71",
   "metadata": {},
   "outputs": [
    {
     "data": {
      "text/plain": [
       "array([[-36.,   9.,   0.],\n",
       "       [  9., -36.,   9.],\n",
       "       [  0.,   9., -36.]])"
      ]
     },
     "execution_count": 41,
     "metadata": {},
     "output_type": "execute_result"
    }
   ],
   "source": [
    "# i,j\n",
    "diag_block = np.eye(ny-1)*(-2/dx**2 + -2/dy**2)\n",
    "diag_block\n",
    "\n",
    "# i, j+1\n",
    "diag_block = diag_block + np.diag(np.ones(shape=(ny-2,))*1/dy**2, 1)\n",
    "\n",
    "# i,j-1\n",
    "diag_block = diag_block + np.diag(np.ones(shape=(ny-2,))*1/dy**2, -1)\n",
    "\n",
    "diag_block"
   ]
  },
  {
   "cell_type": "code",
   "execution_count": 42,
   "id": "c67a2d8e",
   "metadata": {},
   "outputs": [],
   "source": [
    "Matrix = np.kron(np.eye(nx-1), diag_block)\n",
    "Matrix = Matrix + np.diag(np.ones((nx-2)*(ny-1),)*1/dx**2, ny-1)\n",
    "Matrix = Matrix + np.diag(np.ones((nx-2)*(ny-1),)*1/dx**2, -(ny-1))"
   ]
  },
  {
   "cell_type": "code",
   "execution_count": 43,
   "id": "55b34226",
   "metadata": {},
   "outputs": [
    {
     "data": {
      "text/plain": [
       "array([[-36.,   9.,   0.,   9.,   0.,   0.,   0.,   0.,   0.],\n",
       "       [  9., -36.,   9.,   0.,   9.,   0.,   0.,   0.,   0.],\n",
       "       [  0.,   9., -36.,   0.,   0.,   9.,   0.,   0.,   0.],\n",
       "       [  9.,   0.,   0., -36.,   9.,   0.,   9.,   0.,   0.],\n",
       "       [  0.,   9.,   0.,   9., -36.,   9.,   0.,   9.,   0.],\n",
       "       [  0.,   0.,   9.,   0.,   9., -36.,   0.,   0.,   9.],\n",
       "       [  0.,   0.,   0.,   9.,   0.,   0., -36.,   9.,   0.],\n",
       "       [  0.,   0.,   0.,   0.,   9.,   0.,   9., -36.,   9.],\n",
       "       [  0.,   0.,   0.,   0.,   0.,   9.,   0.,   9., -36.]])"
      ]
     },
     "execution_count": 43,
     "metadata": {},
     "output_type": "execute_result"
    }
   ],
   "source": [
    "Matrix"
   ]
  },
  {
   "cell_type": "code",
   "execution_count": 44,
   "id": "63f06507",
   "metadata": {},
   "outputs": [
    {
     "data": {
      "image/png": "[encoded data removed]",
      "text/plain": [
       "<Figure size 432x288 with 1 Axes>"
      ]
     },
     "metadata": {
      "needs_background": "light"
     },
     "output_type": "display_data"
    }
   ],
   "source": [
    "plt.figure()\n",
    "plt.spy(Matrix)\n",
    "plt.show()"
   ]
  },
  {
   "cell_type": "code",
   "execution_count": null,
   "id": "f36dd2fd",
   "metadata": {},
   "outputs": [],
   "source": []
  }
 ],
 "metadata": {
  "kernelspec": {
   "display_name": "Python 3 (ipykernel)",
   "language": "python",
   "name": "python3"
  },
  "language_info": {
   "codemirror_mode": {
    "name": "ipython",
    "version": 3
   },
   "file_extension": ".py",
   "mimetype": "text/x-python",
   "name": "python",
   "nbconvert_exporter": "python",
   "pygments_lexer": "ipython3",
   "version": "3.8.10"
  }
 },
 "nbformat": 4,
 "nbformat_minor": 5
}
