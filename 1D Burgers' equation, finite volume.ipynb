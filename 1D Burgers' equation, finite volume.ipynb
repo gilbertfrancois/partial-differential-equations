{
 "cells": [
  {
   "cell_type": "markdown",
   "id": "953cbb1b",
   "metadata": {},
   "source": [
    "# 1D Burgers' equation, finite volume\n",
    "\n",
    "_Gilbert François Duivesteijn_"
   ]
  },
  {
   "cell_type": "code",
   "execution_count": 1,
   "id": "2c4918a0",
   "metadata": {},
   "outputs": [
    {
     "data": {
      "application/javascript": [
       "MathJax.Hub.Config({\n",
       "    TeX: { equationNumbers: { autoNumber: \"AMS\" } }\n",
       "});\n"
      ],
      "text/plain": [
       "<IPython.core.display.Javascript object>"
      ]
     },
     "metadata": {},
     "output_type": "display_data"
    }
   ],
   "source": [
    "%%javascript\n",
    "MathJax.Hub.Config({\n",
    "    TeX: { equationNumbers: { autoNumber: \"AMS\" } }\n",
    "});"
   ]
  },
  {
   "cell_type": "code",
   "execution_count": 2,
   "id": "7119c56e",
   "metadata": {},
   "outputs": [],
   "source": [
    "import numpy as np\n",
    "import matplotlib.pyplot as plt\n",
    "from matplotlib.animation import FuncAnimation\n",
    "from scipy.integrate import odeint\n",
    "from scipy.linalg import toeplitz\n",
    "\n",
    "from IPython import display"
   ]
  },
  {
   "cell_type": "markdown",
   "id": "cb9fb7e7",
   "metadata": {},
   "source": [
    "Burgers' equation or Bateman–Burgers equation is a fundamental partial differential equation occurring in various areas of applied mathematics, such as fluid mechanics, nonlinear acoustics, gas dynamics, and traffic flow. The equation was first introduced by Harry Bateman in 1915 and later studied by Johannes Martinus Burgers in 1948 [1].\n",
    "\n",
    "For a given field $u(x,t)$ and diffusion coefficient (or kinematic viscosity, as in the original fluid mechanical context) $\\nu$ , the general form of Burgers' equation (also known as viscous Burgers' equation) in one space dimension is the dissipative system:\n",
    "\n",
    "\\begin{align}\n",
    "\\frac{\\partial u}{\\partial t} + \\frac{\\partial f(u)}{\\partial x} &= \\nu\\frac{\\partial^2 u}{\\partial x^2} .\\\\\n",
    "\\end{align}\n",
    "\n",
    "When the diffusion term is absent (i.e. $\\nu=0$), Burgers' equation becomes the inviscid Burgers' equation:\n",
    "\n",
    "\\begin{align}\n",
    "\\frac{\\partial u}{\\partial t} + \\frac{\\partial f(u)}{\\partial x} &= 0 .\\\\\n",
    "\\end{align}\n",
    "\n",
    "With $f(u) = \\frac{u^2}{2}$ and applying the chain rule, we can write this non-linear equation, known as the Burgers' equation as\n",
    "\n",
    "\\begin{align}\n",
    "\\frac{\\partial u}{\\partial t} + \\frac{\\partial f(u)}{\\partial u} \\frac{\\partial u}{\\partial x} &= 0 \\\\\n",
    "\\frac{\\partial u}{\\partial t} + u\\frac{\\partial u}{\\partial x} &= 0. \\\\\n",
    "\\end{align}\n",
    "\n",
    "where $\\frac{\\partial f(u)}{\\partial u}$ can be seen as the local wave speed.\n",
    "\n",
    "\n",
    "Writing the Burgers' equation in integral form\n",
    "\\begin{align}\n",
    "\\int_{a}^{b} \\left( \\frac{\\partial u}{\\partial t} + \\frac{\\partial f(u)}{\\partial x} \\right)dx &= 0 \\\\\n",
    "\\frac{d}{dt} \\int_{a}^{b} udx + \\left. f(u) \\right|_a^b &= 0\n",
    "\\end{align}\n",
    "\n",
    "Bringing the $f(u)$ term to the other side\n",
    "\\begin{align}\\label{eq:burgers_int}\n",
    "\\frac{d}{dt} \\int_{a}^{b} udx &= f(u(a)) - f(u(b))\n",
    "\\end{align}\n",
    "\n",
    "Now, $f(u(b)) - f(u(a))$ can be seen as the flux. \n",
    "\n",
    "For example if $u$ is denoted as the density, then the integral of $u$ over the spacial domain $\\int_{a}^{b} udx$ means the total amount of mass inside this range and $\\frac{d}{dt}$ is the rate of change.\n",
    "\n",
    "In words the integral form of the Burgers' equation (\\ref{eq:burgers_int}) can be described as:\n",
    "\n",
    ">The rate of change of mass inside a volume is equal to the rate of flux going into the volume minus the rate of flux going out of the volume.\n",
    "\n",
    "Substituting $f(u) = \\frac{u^2}{2}$ into (\\ref{eq:burgers_int}) gives\n",
    "\n",
    "\\begin{align}\\label{eq:burgers_int2}\n",
    "\\frac{d}{dt} \\int_{a}^{b} udx + \\frac{u(b)^2}{2} - \\frac{u(a)^2}{2} &= 0\n",
    "\\end{align}\n",
    "\n",
    "[1] [Burgers' equation](https://en.wikipedia.org/wiki/Burgers%27_equation)"
   ]
  },
  {
   "cell_type": "code",
   "execution_count": 3,
   "id": "c53e0ac0",
   "metadata": {},
   "outputs": [],
   "source": [
    "# ... work in progress"
   ]
  },
  {
   "cell_type": "code",
   "execution_count": null,
   "id": "83d428a7",
   "metadata": {},
   "outputs": [],
   "source": []
  }
 ],
 "metadata": {
  "kernelspec": {
   "display_name": "Python 3 (ipykernel)",
   "language": "python",
   "name": "python3"
  },
  "language_info": {
   "codemirror_mode": {
    "name": "ipython",
    "version": 3
   },
   "file_extension": ".py",
   "mimetype": "text/x-python",
   "name": "python",
   "nbconvert_exporter": "python",
   "pygments_lexer": "ipython3",
   "version": "3.8.10"
  }
 },
 "nbformat": 4,
 "nbformat_minor": 5
}
