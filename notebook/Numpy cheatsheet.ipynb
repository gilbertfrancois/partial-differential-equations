{
 "cells": [
  {
   "cell_type": "markdown",
   "id": "a230bb19",
   "metadata": {},
   "source": [
    "# Numpy cheatsheet\n",
    "_Gilbert François Duivesteijn_\n",
    "\n",
    "---\n",
    "**Work in progress.**\n",
    "\n",
    "---"
   ]
  },
  {
   "cell_type": "code",
   "execution_count": 1,
   "id": "a79dab9f",
   "metadata": {},
   "outputs": [],
   "source": [
    "import numpy as np\n",
    "\n",
    "eps = np.finfo(float).eps"
   ]
  },
  {
   "cell_type": "markdown",
   "id": "9319a523",
   "metadata": {},
   "source": [
    "## Overview\n",
    "\n",
    "https://numpy.org/doc/stable/user/numpy-for-matlab-users.html\n",
    "\n",
    "https://www.delftstack.com/howto/numpy/numpy-dot-vs-matmul/\n"
   ]
  },
  {
   "cell_type": "markdown",
   "id": "9d62c601",
   "metadata": {},
   "source": [
    "| math notation | matlab command | numpy command             | remark |\n",
    "| :------------ | :----------- |:----------- | :------------ |\n",
    "| $C=A \\cdot B$ | `A*B` | `A@B` | matrix operation |\n",
    "|  |  | `np.matmul(A, B)` | matrix operation |\n",
    "|  |  | `np.dot(A, B)` | matrix operation |\n",
    "| $C=A \\odot B$ |`A.*B`| `A*B` | element-wise operation |\n",
    "| $C=A^2$ | `A.^2` | `A**2` | element-wise operation |\n",
    "|  | | `np.square(A)` | element-wise operation |\n",
    "| $C = A \\otimes B$ | `kron(A, B)` | `np.kron(A, B)` | matrix operation |\n",
    "| $\\int\\frac{\\partial f}{\\partial t}dt$ | `ode45` | `integrate.solve_ivp(f)` | integrate an ODE with Runge-Kutta 4,5 |"
   ]
  },
  {
   "cell_type": "markdown",
   "id": "1aee3965",
   "metadata": {},
   "source": [
    "## Matrix product (matrix - matrix)\n",
    "\n",
    "\\begin{align}\n",
    "C = A \\cdot B\n",
    "\\end{align}\n",
    "\n",
    "Use `@`, `np.dot` or `np.matmul` in numpy. For 2D matrices, they all give the same results. For $\\mathbb{R}^n$ where $n>2$, the `@` operator and `np.matmul` give the same results, but `np.dot` has a slightly different implementation. The `np.matmul` function broadcasts the array like a stack of matrices as elements residing in the last two indexes, respectively. The `np.dot` function, on the other hand, performs multiplication as the sum of products over the last axis of the first array and the second-to-last of the second."
   ]
  },
  {
   "cell_type": "code",
   "execution_count": 2,
   "id": "b98c4496",
   "metadata": {},
   "outputs": [
    {
     "name": "stdout",
     "output_type": "stream",
     "text": [
      "A= \n",
      "[[ 0  1  2]\n",
      " [ 3  4  5]\n",
      " [ 6  7  8]\n",
      " [ 9 10 11]]\n",
      "B= \n",
      "[[ 0  1  2  3]\n",
      " [ 4  5  6  7]\n",
      " [ 8  9 10 11]]\n"
     ]
    }
   ],
   "source": [
    "A = np.arange(0, 12).reshape(4, 3)\n",
    "B = np.arange(0, 12).reshape(3, 4)\n",
    "print(\"A= \"); print(A)\n",
    "print(\"B= \"); print(B)"
   ]
  },
  {
   "cell_type": "code",
   "execution_count": 3,
   "id": "f2a8d6a4",
   "metadata": {},
   "outputs": [
    {
     "name": "stdout",
     "output_type": "stream",
     "text": [
      "C= \n",
      "[[ 20  23  26  29]\n",
      " [ 56  68  80  92]\n",
      " [ 92 113 134 155]\n",
      " [128 158 188 218]]\n"
     ]
    }
   ],
   "source": [
    "C1 = A@B\n",
    "C2 = np.matmul(A, B)\n",
    "C3 = np.dot(A, B)\n",
    "\n",
    "assert np.allclose(C1, C2)\n",
    "assert np.allclose(C1, C3)\n",
    "print(\"C= \"); print(C3)"
   ]
  },
  {
   "cell_type": "code",
   "execution_count": 4,
   "id": "b7dc75ab",
   "metadata": {},
   "outputs": [
    {
     "name": "stdout",
     "output_type": "stream",
     "text": [
      "[[[0.73360585 0.66861821]\n",
      "  [0.81106372 0.73118198]]\n",
      "\n",
      " [[0.38135421 0.69572593]\n",
      "  [0.63159265 0.7650871 ]]]\n",
      "[[0.73360585 0.66861821]\n",
      " [0.81106372 0.73118198]]\n",
      "[[0.38135421 0.69572593]\n",
      " [0.63159265 0.7650871 ]]\n",
      "\n",
      "[[[[0.73360585 0.66861821]\n",
      "   [0.30249323 0.83328309]]\n",
      "\n",
      "  [[0.81106372 0.73118198]\n",
      "   [0.41097539 1.14645662]]]\n",
      "\n",
      "\n",
      " [[[0.42249045 0.47534563]\n",
      "   [0.38135421 0.69572593]]\n",
      "\n",
      "  [[0.76114408 0.95473813]\n",
      "   [0.63159265 0.7650871 ]]]]\n"
     ]
    }
   ],
   "source": [
    "a = np.random.rand(2, 2, 3)\n",
    "b = np.random.rand(2, 3, 2)\n",
    "cn = a@b\n",
    "\n",
    "c0 = a[0]@b[0]\n",
    "c1 = a[1]@b[1]\n",
    "c2 = np.dot(a, b)\n",
    "\n",
    "assert np.allclose(cn[0], c0)\n",
    "assert np.allclose(cn[1], c1)\n",
    "\n",
    "print(cn)\n",
    "print(c0)\n",
    "print(c1)\n",
    "\n",
    "print()\n",
    "print(c2)"
   ]
  },
  {
   "cell_type": "markdown",
   "id": "6b205ca0",
   "metadata": {},
   "source": [
    "##  Hadamard product (element-wise product)\n",
    "\n",
    "Element-wise product or the Hadamard product:\n",
    "\n",
    "\\begin{align}\n",
    "C = A \\odot B\n",
    "\\end{align}\n",
    "\n",
    "Use `*` operator in numpy."
   ]
  },
  {
   "cell_type": "code",
   "execution_count": 5,
   "id": "978dde0e",
   "metadata": {},
   "outputs": [
    {
     "name": "stdout",
     "output_type": "stream",
     "text": [
      "A= \n",
      "[[ 0  1  2]\n",
      " [ 3  4  5]\n",
      " [ 6  7  8]\n",
      " [ 9 10 11]]\n",
      "B= \n",
      "[[12 13 14]\n",
      " [15 16 17]\n",
      " [18 19 20]\n",
      " [21 22 23]]\n"
     ]
    }
   ],
   "source": [
    "A = np.arange(0, 12).reshape(4, 3)\n",
    "B = np.arange(12, 24).reshape(4, 3)\n",
    "print(\"A= \"); print(A)\n",
    "print(\"B= \"); print(B)"
   ]
  },
  {
   "cell_type": "code",
   "execution_count": 6,
   "id": "5646cdcf",
   "metadata": {
    "scrolled": true
   },
   "outputs": [
    {
     "name": "stdout",
     "output_type": "stream",
     "text": [
      "C= \n",
      "[[  0  13  28]\n",
      " [ 45  64  85]\n",
      " [108 133 160]\n",
      " [189 220 253]]\n"
     ]
    }
   ],
   "source": [
    "C = A*B\n",
    "print(\"C= \"); print(C)"
   ]
  },
  {
   "cell_type": "markdown",
   "id": "9df6a758",
   "metadata": {},
   "source": [
    "##  Square\n",
    "\n",
    "Element-wise square of a matrix\n",
    "\n",
    "\\begin{align}\n",
    "C = A^{2}\n",
    "\\end{align}\n",
    "\n",
    "Use `A**2`, `np.square(A)`, `np.power(A, 2)` or `A*A` in numpy.\n",
    "\n",
    "Note that\n",
    "\n",
    "\\begin{align}\n",
    "A^{2} &\\neq A \\cdot A \\\\\n",
    "A^{2} &\\neq A^T \\cdot A\n",
    "\\end{align}\n",
    "\n",
    "Don't use `np.matmul` or `np.dot` for element-wise square computation."
   ]
  },
  {
   "cell_type": "code",
   "execution_count": 7,
   "id": "625bcf04",
   "metadata": {},
   "outputs": [
    {
     "name": "stdout",
     "output_type": "stream",
     "text": [
      "A= \n",
      "[[ 0  1  2]\n",
      " [ 3  4  5]\n",
      " [ 6  7  8]\n",
      " [ 9 10 11]]\n",
      "C= \n",
      "[[  0   1   4]\n",
      " [  9  16  25]\n",
      " [ 36  49  64]\n",
      " [ 81 100 121]]\n"
     ]
    }
   ],
   "source": [
    "A = np.arange(0, 12).reshape(4, 3)\n",
    "\n",
    "C1 = A**2\n",
    "C2 = np.square(A)\n",
    "C3 = np.power(A, 2)\n",
    "C4 = A*A\n",
    "\n",
    "assert np.allclose(C1, C2)\n",
    "assert np.allclose(C1, C3)\n",
    "assert np.allclose(C1, C4)\n",
    "\n",
    "print(\"A= \"); print(A)\n",
    "print(\"C= \"); print(C1)"
   ]
  },
  {
   "cell_type": "markdown",
   "id": "64582046",
   "metadata": {},
   "source": [
    "## Kronecker product (matrix direct product)\n",
    "\n",
    "\\begin{align}\n",
    "C = A \\otimes B\n",
    "\\end{align}"
   ]
  },
  {
   "cell_type": "code",
   "execution_count": 8,
   "id": "df0c2732",
   "metadata": {},
   "outputs": [
    {
     "name": "stdout",
     "output_type": "stream",
     "text": [
      "A= \n",
      "[[1 2]\n",
      " [3 4]]\n",
      "B= \n",
      "[[0 1 2]\n",
      " [3 4 5]\n",
      " [6 7 8]]\n"
     ]
    }
   ],
   "source": [
    "A = np.array([[1, 2],[3, 4]])\n",
    "B = np.arange(0, 9).reshape(3, 3)\n",
    "print(\"A= \"); print(A)\n",
    "print(\"B= \"); print(B)"
   ]
  },
  {
   "cell_type": "code",
   "execution_count": 9,
   "id": "5335c383",
   "metadata": {},
   "outputs": [
    {
     "name": "stdout",
     "output_type": "stream",
     "text": [
      "C= \n",
      "[[ 0  1  2  0  2  4]\n",
      " [ 3  4  5  6  8 10]\n",
      " [ 6  7  8 12 14 16]\n",
      " [ 0  3  6  0  4  8]\n",
      " [ 9 12 15 12 16 20]\n",
      " [18 21 24 24 28 32]]\n"
     ]
    }
   ],
   "source": [
    "C = np.kron(A, B)\n",
    "print(\"C= \"); print(C)"
   ]
  },
  {
   "cell_type": "code",
   "execution_count": null,
   "id": "3a1b160f",
   "metadata": {},
   "outputs": [],
   "source": []
  }
 ],
 "metadata": {
  "kernelspec": {
   "display_name": "Python 3 (ipykernel)",
   "language": "python",
   "name": "python3"
  },
  "language_info": {
   "codemirror_mode": {
    "name": "ipython",
    "version": 3
   },
   "file_extension": ".py",
   "mimetype": "text/x-python",
   "name": "python",
   "nbconvert_exporter": "python",
   "pygments_lexer": "ipython3",
   "version": "3.8.10"
  }
 },
 "nbformat": 4,
 "nbformat_minor": 5
}
