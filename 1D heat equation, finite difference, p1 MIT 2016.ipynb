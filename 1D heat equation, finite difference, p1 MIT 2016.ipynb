{
 "cells": [
  {
   "cell_type": "markdown",
   "id": "953cbb1b",
   "metadata": {},
   "source": [
    "# 1D heat equation, finite difference, mini project 1, MIT 2016\n",
    "\n",
    "_Gilbert François Duivesteijn_"
   ]
  },
  {
   "cell_type": "code",
   "execution_count": null,
   "id": "2c4918a0",
   "metadata": {},
   "outputs": [],
   "source": [
    "%%javascript\n",
    "MathJax.Hub.Config({\n",
    "    TeX: { equationNumbers: { autoNumber: \"AMS\" } }\n",
    "});"
   ]
  },
  {
   "cell_type": "code",
   "execution_count": null,
   "id": "7119c56e",
   "metadata": {},
   "outputs": [],
   "source": [
    "import numpy as np\n",
    "import matplotlib.pyplot as plt\n",
    "from matplotlib.animation import FuncAnimation\n",
    "from scipy.integrate import odeint\n",
    "from scipy.linalg import toeplitz\n",
    "from IPython import display"
   ]
  },
  {
   "cell_type": "markdown",
   "id": "cb9fb7e7",
   "metadata": {},
   "source": [
    "_This is mini project 1, from the course \"Numerical Methods for PDE\", Qiqi Wang, MIT, September 2016._\n",
    "\n",
    "## Problem\n",
    "\n",
    "Solve\n",
    "\\begin{align}\\label{eq:1}\n",
    "\\frac{\\partial u}{\\partial t} &= \\alpha \\nabla^2 u + \\beta(u-U_c)\n",
    "\\end{align}\n",
    "\n",
    "with constants:\n",
    "\n",
    "\\begin{align}\\label{eq:ic}\n",
    "\\alpha &= 0.0012 \\\\\n",
    "\\beta &= -0.0015 \\\\\n",
    "U_c &= 300 \\\\\n",
    "\\end{align}\n",
    "\n",
    "and boundary conditions\n",
    "\n",
    "\\begin{align}\\label{eq:bc}\n",
    "u(0,t) &= B_0 = 325 \\\\\n",
    "\\left.\\frac{\\partial u}{\\partial x}\\right|_{x=1} &= B_1 = 10\n",
    "\\end{align}\n",
    "\n",
    "and initial condition:\n",
    "\n",
    "\\begin{align}\n",
    "u(x,0) &= 325 \\qquad \\forall \\quad x \\in [0,1]\n",
    "\\end{align}\n",
    "\n",
    "## Solution\n",
    "\n",
    "### Inner domain\n",
    "Discretize (\\ref{eq:1}) for the inner domain:\n",
    "\\begin{align}\n",
    "\\frac{\\partial u}{\\partial t} &= \\alpha \\frac{u_{i-1} -2u_i + u_{i+1}}{\\Delta x^2} + \\beta (u_i - U_c) \\\\\n",
    "                              &= \\underbrace{\\frac{\\alpha}{\\Delta x^2}u_{i-1} + \\left(\\frac{-2 \\alpha}{\\Delta x^2} + \\beta \\right)u_i + \\frac{\\alpha}{\\Delta x^2}u_{i+1}}_{A} + \\underbrace{- \\beta U_c}_{b}\n",
    "\\end{align}\n",
    "\n",
    "### Left boundary condition\n",
    "For the left boundary, with Dirichlet condition, the discretized equation around $i=1$ is:\n",
    "\n",
    "\\begin{align}\n",
    "\\left. \\frac{\\partial u}{\\partial t} \\right|_{u_1} &= \\alpha \\frac{u_0 -2u_1 + u_{2}}{\\Delta x^2} + \\beta (u_1 - U_c)  \\qquad \\textrm{with} \\quad u_0 = B_0 = 325\\\\\n",
    "                              &= \\frac{\\alpha}{\\Delta x^2}u_{0} + \\left(\\frac{-2 \\alpha}{\\Delta x^2} + \\beta \\right)u_1 + \\frac{\\alpha}{\\Delta x^2}u_{2} -\\beta U_c \\\\\n",
    "                              &= \\underbrace{\\left(\\frac{-2 \\alpha}{\\Delta x^2} + \\beta \\right)u_1 + \\frac{\\alpha}{\\Delta x^2}u_{2}}_{A} + \\underbrace{-\\beta U_c + \\frac{\\alpha}{\\Delta x^2}B_0}_{b}\n",
    "\\end{align}\n",
    "\n",
    "### Right boundary condition\n",
    "For the boundary condition at the right of the domain, we first have to discretize the Neumann condition:\n",
    "\\begin{align}\\label{eq:neumann1}\n",
    "\\left. \\frac{\\partial u}{\\partial x} \\right|_{u_n} &= \\frac{u_{n} - u_{n-1}}{\\Delta x} = B_1 = 10\n",
    "\\end{align}\n",
    "Isolating $u_n$ gives:\n",
    "\\begin{align}\\label{eq:neumann2}\n",
    "u_n &= u_{n-1} + \\Delta x B_1\n",
    "\\end{align}\n",
    "Discretizing (\\ref{eq:1}) for $i=n-1$ and substituting $u_n$ with the result of (\\ref{eq:neumann2}) gives:\n",
    "\\begin{align}\n",
    "\\left. \\frac{\\partial u}{\\partial t} \\right|_{u_{n-1}} &= \\alpha \\frac{u_{n-2} -2u_{n-1} + u_{n}}{\\Delta x^2} + \\beta (u_{n-1} - U_c)\\\\\n",
    "                              &= \\alpha \\frac{u_{n-2} -2u_{n-1} + u_{n-1} + \\Delta x B_1}{\\Delta x^2} + \\beta (u_{n-1} - U_c)\\\\\n",
    "                              &= \\underbrace{\\left( \\frac{\\alpha}{\\Delta x^2}\\right) u_{n-2} + \\left( \\frac{-\\alpha}{\\Delta x^2} + \\beta \\right) u_{n-1}}_{A} + \\underbrace{-\\beta U_c + \\frac{B_1}{\\Delta x}}_{b}\n",
    "\\end{align}"
   ]
  },
  {
   "cell_type": "code",
   "execution_count": null,
   "id": "2f10b190",
   "metadata": {},
   "outputs": [],
   "source": [
    "# Constant kappa\n",
    "alpha = 0.0012\n",
    "beta = -0.0015\n",
    "Uc = 300\n",
    "\n",
    "# Spacial domain\n",
    "x0 = 0.0\n",
    "xn = 1.0\n",
    "n = 100\n",
    "dx = (xn - x0)/n\n",
    "x = np.linspace(x0, xn, n)\n",
    "\n",
    "# Time steps\n",
    "t0 = 0.0\n",
    "tn = 300.0\n",
    "t_steps = 300\n",
    "dt = (tn - t0)/t_steps\n",
    "t = np.linspace(t0, tn, t_steps)\n",
    "\n",
    "# Boundary conditions\n",
    "B0 = 325\n",
    "B1 = 10\n",
    "\n",
    "# Initial condition, T(x,0)=325 for all x in [0,1]\n",
    "Uinit = np.ones(shape=(n,)) * 325\n",
    "\n",
    "# Discretization matrix A\n",
    "A = toeplitz([(-2*alpha / dx**2 + beta), (alpha / dx**2)] + [0.0]*(n-2))\n",
    "A[n-1,n-1] = -alpha / dx**2 + beta\n",
    "\n",
    "# Vector b\n",
    "b = np.ones(shape=(n)) * -beta * Uc\n",
    "# Boundary conditions in vector b\n",
    "b[0] = -beta * Uc + alpha / dx**2 * B0\n",
    "b[n-1] = -beta * Uc + B1/dx"
   ]
  },
  {
   "cell_type": "code",
   "execution_count": null,
   "id": "2ab28e1f",
   "metadata": {},
   "outputs": [],
   "source": [
    "print(\"\\nA =\")\n",
    "print(A)\n",
    "print(\"\\nb =\")\n",
    "print(b)"
   ]
  },
  {
   "cell_type": "code",
   "execution_count": null,
   "id": "8c9f785a",
   "metadata": {},
   "outputs": [],
   "source": [
    "plt.figure(figsize=(7,7))\n",
    "plt.spy(A)\n",
    "plt.title(\"Non zero elements in matrix A\")\n",
    "plt.show()"
   ]
  },
  {
   "cell_type": "code",
   "execution_count": null,
   "id": "61d2dab3",
   "metadata": {},
   "outputs": [],
   "source": [
    "def fn(u, t, A, b):\n",
    "    return (np.matmul(A, u) + b)"
   ]
  },
  {
   "cell_type": "code",
   "execution_count": null,
   "id": "2b692e26",
   "metadata": {},
   "outputs": [],
   "source": [
    "u = odeint(fn, Uinit, t, args=(A, b))"
   ]
  },
  {
   "cell_type": "code",
   "execution_count": null,
   "id": "b72e7abb",
   "metadata": {},
   "outputs": [],
   "source": [
    "fig, axs = plt.subplots(1, 2, figsize=(14, 6))\n",
    "# axs[0].set_ylim(300, 300)\n",
    "axs[0].plot(x, u[0], label=f\"t={0/t_steps*tn:0.1f}\")\n",
    "axs[0].plot(x, u[10], label=f\"t={10/t_steps*tn:0.1f}\")\n",
    "axs[0].plot(x, u[30], label=f\"t={30/t_steps*tn:0.1f}\")\n",
    "axs[0].plot(x, u[99], label=f\"t={100/t_steps*tn:0.1f}\")\n",
    "axs[0].plot(x, u[299], label=f\"t={300/t_steps*tn:0.1f}\")\n",
    "axs[0].legend()\n",
    "axs[0].set_ylabel(\"Temperature\")\n",
    "axs[0].set_xlabel(\"x\")\n",
    "axs[1].imshow(u, aspect=\"auto\", cmap=\"inferno\", origin=\"lower\", extent=[x0, xn, t0, tn])\n",
    "axs[1].set_xlabel(f\"x\")\n",
    "axs[1].set_ylabel(\"time\")\n",
    "plt.show()"
   ]
  },
  {
   "cell_type": "code",
   "execution_count": null,
   "id": "82b61f7f",
   "metadata": {},
   "outputs": [],
   "source": [
    "# Animation of the solution over the integrated time span. \n",
    "\n",
    "def animate(frame):\n",
    "    \"\"\" Animation \"\"\"\n",
    "    y = u[frame]\n",
    "    line.set_data((x, y))\n",
    "    plt.title(f\"t={tn * frame / t_steps:0.2f}\")\n",
    "\n",
    "# Create the plot\n",
    "fig = plt.figure(figsize=(6, 6))\n",
    "lines = plt.plot([])\n",
    "line = lines[0]\n",
    "plt.xlim([0, xn])\n",
    "plt.ylim([0, 5000])\n",
    "plt.ylabel(\"Temperature\")\n",
    "plt.xlabel(\"x\")\n",
    "plt.title(\"\")\n",
    "  \n",
    "anim = FuncAnimation(fig, animate, frames=t_steps, interval=20)\n",
    "video = anim.to_html5_video()\n",
    "html = display.HTML(video)\n",
    "display.display(html)\n",
    "plt.close()"
   ]
  },
  {
   "cell_type": "code",
   "execution_count": null,
   "id": "1b8d8b80",
   "metadata": {},
   "outputs": [],
   "source": [
    "# Solution u(x,t), where t=tn\n",
    "\n",
    "u[-1]"
   ]
  }
 ],
 "metadata": {
  "kernelspec": {
   "display_name": "Python 3 (ipykernel)",
   "language": "python",
   "name": "python3"
  },
  "language_info": {
   "codemirror_mode": {
    "name": "ipython",
    "version": 3
   },
   "file_extension": ".py",
   "mimetype": "text/x-python",
   "name": "python",
   "nbconvert_exporter": "python",
   "pygments_lexer": "ipython3",
   "version": "3.8.10"
  }
 },
 "nbformat": 4,
 "nbformat_minor": 5
}
