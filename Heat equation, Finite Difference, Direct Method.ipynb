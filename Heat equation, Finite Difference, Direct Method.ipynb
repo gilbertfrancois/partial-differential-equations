{
 "cells": [
  {
   "cell_type": "markdown",
   "id": "fadaa6d5",
   "metadata": {},
   "source": [
    "# Heat equation, Finite Difference, Direct Method\n",
    "_Gilbert Francois Duivesteijn_\n",
    "\n",
    "import numpy as np\n",
    "import matplotlib.pyplot as plt\n",
    "from scipy.linalg import toeplitz\n",
    "from scipy.linalg import solve"
   ]
  },
  {
   "cell_type": "markdown",
   "id": "25b314db",
   "metadata": {},
   "source": [
    "Let's consider the following equation:\n",
    "\n",
    "\\begin{equation}\n",
    "\\frac{\\partial u}{\\partial t} = \\kappa \\frac{\\partial^2 u}{\\partial x^2} + f(x)\n",
    "\\end{equation}\n",
    "\n",
    "When the heat equation is static over time, the $\\frac{\\partial u}{\\partial t} = 0$. This is now an elliptic equation. In matrix notation, the equation can be written as:\n",
    "\\begin{equation}\n",
    "\\begin{bmatrix}\n",
    "0 \\\\\n",
    "\\vdots \\\\\n",
    "0\n",
    "\\end{bmatrix} = \\kappa \\frac{1}{\\Delta x^2}\\begin{bmatrix}\n",
    "\\ddots &        &  0 \\\\\n",
    "       & \\ddots &   \\\\\n",
    "  0    &        & \\ddots\n",
    "\\end{bmatrix} \\begin{bmatrix}\n",
    "u_1 \\\\\n",
    "\\vdots \\\\\n",
    "u_{n-1}\n",
    "\\end{bmatrix}\n",
    "+\n",
    "\\begin{bmatrix}\n",
    "b_1 \\\\\n",
    "\\vdots \\\\\n",
    "b_{n-1}\n",
    "\\end{bmatrix}\n",
    "+\n",
    "\\begin{bmatrix}\n",
    "f_1 \\\\\n",
    "\\vdots \\\\\n",
    "f_{n-1}\n",
    "\\end{bmatrix}\n",
    "\\end{equation}\n",
    "and\n",
    "\\begin{equation}\n",
    "f_i := f(i\\Delta x)\n",
    "\\end{equation}\n",
    "\n",
    "This is a system of equations that can be solved with a direct method."
   ]
  },
  {
   "cell_type": "markdown",
   "id": "c1654af0",
   "metadata": {},
   "source": [
    "## Example "
   ]
  },
  {
   "cell_type": "code",
   "execution_count": 1,
   "id": "98c861ae",
   "metadata": {},
   "outputs": [],
   "source": [
    "import numpy as np\n",
    "import matplotlib.pyplot as plt\n",
    "from scipy.linalg import toeplitz\n",
    "from scipy.linalg import solve"
   ]
  },
  {
   "cell_type": "code",
   "execution_count": 2,
   "id": "d32233f4",
   "metadata": {},
   "outputs": [],
   "source": [
    "# Constant kappa\n",
    "k = 0.001\n",
    "\n",
    "# Spacial domain\n",
    "n = 100\n",
    "L = 1\n",
    "dx = L / n\n",
    "x = np.linspace(0, L, n)\n",
    "\n",
    "# Boundary conditions\n",
    "U0 = 1\n",
    "Un = -1\n",
    "\n",
    "# Initial condition, u(x,0)=0\n",
    "Uinit = np.zeros(shape=(n,))\n",
    "\n",
    "# Discretization matrix A\n",
    "A = k/dx**2 * toeplitz([-2.0, 1.0] + [0.0]*(n-2))\n",
    "\n",
    "# Vector with boundary conditions b\n",
    "b = np.zeros(shape=(n))\n",
    "b[0] = k/dx**2 * U0\n",
    "b[n-1] = k/dx**2 * Un\n",
    "\n",
    "# Discretize spacial function f(x)=cos(x)\n",
    "f = 3e-2 * np.cos(3*np.pi*x)"
   ]
  },
  {
   "cell_type": "code",
   "execution_count": 3,
   "id": "5d141417",
   "metadata": {},
   "outputs": [
    {
     "name": "stdout",
     "output_type": "stream",
     "text": [
      "\n",
      "A =\n",
      "[[-20.  10.   0. ...   0.   0.   0.]\n",
      " [ 10. -20.  10. ...   0.   0.   0.]\n",
      " [  0.  10. -20. ...   0.   0.   0.]\n",
      " ...\n",
      " [  0.   0.   0. ... -20.  10.   0.]\n",
      " [  0.   0.   0. ...  10. -20.  10.]\n",
      " [  0.   0.   0. ...   0.  10. -20.]]\n",
      "\n",
      "b =\n",
      "[ 10.   0.   0.   0.   0.   0.   0.   0.   0.   0.   0.   0.   0.   0.\n",
      "   0.   0.   0.   0.   0.   0.   0.   0.   0.   0.   0.   0.   0.   0.\n",
      "   0.   0.   0.   0.   0.   0.   0.   0.   0.   0.   0.   0.   0.   0.\n",
      "   0.   0.   0.   0.   0.   0.   0.   0.   0.   0.   0.   0.   0.   0.\n",
      "   0.   0.   0.   0.   0.   0.   0.   0.   0.   0.   0.   0.   0.   0.\n",
      "   0.   0.   0.   0.   0.   0.   0.   0.   0.   0.   0.   0.   0.   0.\n",
      "   0.   0.   0.   0.   0.   0.   0.   0.   0.   0.   0.   0.   0.   0.\n",
      "   0. -10.]\n",
      "\n",
      "x =\n",
      "[0.         0.01010101 0.02020202 0.03030303 0.04040404 0.05050505\n",
      " 0.06060606 0.07070707 0.08080808 0.09090909 0.1010101  0.11111111\n",
      " 0.12121212 0.13131313 0.14141414 0.15151515 0.16161616 0.17171717\n",
      " 0.18181818 0.19191919 0.2020202  0.21212121 0.22222222 0.23232323\n",
      " 0.24242424 0.25252525 0.26262626 0.27272727 0.28282828 0.29292929\n",
      " 0.3030303  0.31313131 0.32323232 0.33333333 0.34343434 0.35353535\n",
      " 0.36363636 0.37373737 0.38383838 0.39393939 0.4040404  0.41414141\n",
      " 0.42424242 0.43434343 0.44444444 0.45454545 0.46464646 0.47474747\n",
      " 0.48484848 0.49494949 0.50505051 0.51515152 0.52525253 0.53535354\n",
      " 0.54545455 0.55555556 0.56565657 0.57575758 0.58585859 0.5959596\n",
      " 0.60606061 0.61616162 0.62626263 0.63636364 0.64646465 0.65656566\n",
      " 0.66666667 0.67676768 0.68686869 0.6969697  0.70707071 0.71717172\n",
      " 0.72727273 0.73737374 0.74747475 0.75757576 0.76767677 0.77777778\n",
      " 0.78787879 0.7979798  0.80808081 0.81818182 0.82828283 0.83838384\n",
      " 0.84848485 0.85858586 0.86868687 0.87878788 0.88888889 0.8989899\n",
      " 0.90909091 0.91919192 0.92929293 0.93939394 0.94949495 0.95959596\n",
      " 0.96969697 0.97979798 0.98989899 1.        ]\n",
      "\n",
      "f =\n",
      "[ 0.03        0.02986416  0.02945786  0.02878479  0.02785104  0.02666506\n",
      "  0.02523761  0.02358159  0.02171202  0.01964582  0.01740171  0.015\n",
      "  0.01246245  0.00981204  0.00707277  0.00426945  0.00142746 -0.00142746\n",
      " -0.00426945 -0.00707277 -0.00981204 -0.01246245 -0.015      -0.01740171\n",
      " -0.01964582 -0.02171202 -0.02358159 -0.02523761 -0.02666506 -0.02785104\n",
      " -0.02878479 -0.02945786 -0.02986416 -0.03       -0.02986416 -0.02945786\n",
      " -0.02878479 -0.02785104 -0.02666506 -0.02523761 -0.02358159 -0.02171202\n",
      " -0.01964582 -0.01740171 -0.015      -0.01246245 -0.00981204 -0.00707277\n",
      " -0.00426945 -0.00142746  0.00142746  0.00426945  0.00707277  0.00981204\n",
      "  0.01246245  0.015       0.01740171  0.01964582  0.02171202  0.02358159\n",
      "  0.02523761  0.02666506  0.02785104  0.02878479  0.02945786  0.02986416\n",
      "  0.03        0.02986416  0.02945786  0.02878479  0.02785104  0.02666506\n",
      "  0.02523761  0.02358159  0.02171202  0.01964582  0.01740171  0.015\n",
      "  0.01246245  0.00981204  0.00707277  0.00426945  0.00142746 -0.00142746\n",
      " -0.00426945 -0.00707277 -0.00981204 -0.01246245 -0.015      -0.01740171\n",
      " -0.01964582 -0.02171202 -0.02358159 -0.02523761 -0.02666506 -0.02785104\n",
      " -0.02878479 -0.02945786 -0.02986416 -0.03      ]\n"
     ]
    }
   ],
   "source": [
    "print(\"\\nA =\")\n",
    "print(A)\n",
    "print(\"\\nb =\")\n",
    "print(b)\n",
    "print(\"\\nx =\")\n",
    "print(x)\n",
    "print(\"\\nf =\")\n",
    "print(f)"
   ]
  },
  {
   "cell_type": "code",
   "execution_count": 4,
   "id": "d608f902",
   "metadata": {},
   "outputs": [],
   "source": [
    "u_Ab = solve(A, -b)\n",
    "\n",
    "u_Abf = solve(A, -b-f)"
   ]
  },
  {
   "cell_type": "code",
   "execution_count": 5,
   "id": "64690eaf",
   "metadata": {},
   "outputs": [
    {
     "data": {
      "image/png": "[encoded data removed]",
      "text/plain": [
       "<Figure size 504x432 with 1 Axes>"
      ]
     },
     "metadata": {
      "needs_background": "light"
     },
     "output_type": "display_data"
    }
   ],
   "source": [
    "plt.figure(figsize=(7, 6))\n",
    "plt.plot(x, u_Ab, label=\"$Au + b = 0$\")\n",
    "plt.plot(x, u_Abf, label=\"$Au + b + f = 0$\")\n",
    "plt.legend()\n",
    "plt.show()"
   ]
  },
  {
   "cell_type": "code",
   "execution_count": null,
   "id": "8c8e2f16",
   "metadata": {},
   "outputs": [],
   "source": []
  }
 ],
 "metadata": {
  "kernelspec": {
   "display_name": "Python 3 (ipykernel)",
   "language": "python",
   "name": "python3"
  },
  "language_info": {
   "codemirror_mode": {
    "name": "ipython",
    "version": 3
   },
   "file_extension": ".py",
   "mimetype": "text/x-python",
   "name": "python",
   "nbconvert_exporter": "python",
   "pygments_lexer": "ipython3",
   "version": "3.8.10"
  }
 },
 "nbformat": 4,
 "nbformat_minor": 5
}
